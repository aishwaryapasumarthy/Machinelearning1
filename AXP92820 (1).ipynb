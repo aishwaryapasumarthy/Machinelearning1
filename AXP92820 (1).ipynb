{
  "nbformat": 4,
  "nbformat_minor": 0,
  "metadata": {
    "colab": {
      "provenance": []
    },
    "kernelspec": {
      "name": "python3",
      "display_name": "Python 3"
    },
    "language_info": {
      "name": "python"
    }
  },
  "cells": [
    {
      "cell_type": "markdown",
      "source": [
        "The following is a list of 10 students ages:\n",
        "ages = [19, 22, 19, 24, 20, 25, 26, 24, 25, 24]\n",
        "• Sort the list and find the min and max age\n",
        "• Add the min age and the max age again to the list\n",
        "• Find the median age (one middle item or two middle items divided by two)\n",
        "• Find the average age (sum of all items divided by their number)\n",
        "• Find the range of the ages (max minus min)"
      ],
      "metadata": {
        "id": "Hou_l-F4xFsM"
      }
    },
    {
      "cell_type": "code",
      "source": [
        "ages = [19, 22, 19, 24, 20, 25, 26, 24, 25, 24]\n",
        "\n",
        "\n",
        "ages.sort()\n",
        "min_age = ages[0]\n",
        "max_age = ages[-1]\n",
        "print(\"Sorted ages:\", ages)\n",
        "print(\"Minmum age:\", min_age)\n",
        "print(\"Maximum age:\", max_age)\n",
        "\n",
        "ages.extend([min_age, max_age])\n",
        "print(\"Ages after adding minimum and maximum again:\", ages)\n",
        "\n",
        "\n",
        "ages.sort()\n",
        "length = len(ages)\n",
        "if length % 2 == 0:\n",
        "    median_age = (ages[length // 2 - 1] + ages[length // 2]) / 2\n",
        "else:\n",
        "    median_age = ages[length // 2]\n",
        "print(\"Median age:\", median_age)\n",
        "\n",
        "\n",
        "average_age = sum(ages) / len(ages)\n",
        "print(\"Average age:\", average_age)\n",
        "\n",
        "range_of_ages = max_age - min_age\n",
        "print(\"Range of ages:\", range_of_ages)\n"
      ],
      "metadata": {
        "colab": {
          "base_uri": "https://localhost:8080/"
        },
        "id": "d-4JfGuPxNZr",
        "outputId": "540bc96c-4db9-470a-cc02-7f4e0431a8ef"
      },
      "execution_count": null,
      "outputs": [
        {
          "output_type": "stream",
          "name": "stdout",
          "text": [
            "Sorted ages: [19, 19, 20, 22, 24, 24, 24, 25, 25, 26]\n",
            "Minmum age: 19\n",
            "Maximum age: 26\n",
            "Ages after adding minimum and maximum again: [19, 19, 20, 22, 24, 24, 24, 25, 25, 26, 19, 26]\n",
            "Median age: 24.0\n",
            "Average age: 22.75\n",
            "Range of ages: 7\n"
          ]
        }
      ]
    },
    {
      "cell_type": "markdown",
      "source": [
        "Create an empty dictionary called dog\n",
        "• Add name, color, breed, legs, age to the dog dictionary\n",
        "• Create a student dictionary and add first_name, last_name, gender, age, marital status,\n",
        "skills, country, city and address as keys for the dictionary\n",
        "• Get the length of the student dictionary\n",
        "• Get the value of skills and check the data type, it should be a list\n",
        "• Modify the skills values by adding one or two skills\n",
        "• Get the dictionary keys as a list\n",
        "• Get the dictionary values as a list"
      ],
      "metadata": {
        "id": "Mi9H3BVKyDpy"
      }
    },
    {
      "cell_type": "code",
      "source": [
        "\n",
        "dog = {}\n",
        "\n",
        "dog['name'] = 'Buddy'\n",
        "dog['color'] = 'Brown'\n",
        "dog['breed'] = 'Labrador'\n",
        "dog['legs'] = 4\n",
        "dog['age'] = 5\n",
        "print(\"Dog dictionary:\", dog)\n",
        "\n",
        "student = {\n",
        "    'first_name': 'John',\n",
        "    'last_name': 'Doe',\n",
        "    'gender': 'Male',\n",
        "    'age': 22,\n",
        "    'marital_status': 'Single',\n",
        "    'skills': ['Python', 'Java'],\n",
        "    'country': 'USA',\n",
        "    'city': 'New York',\n",
        "    'address': '123 Main St'\n",
        "}\n",
        "print(\"Student dictionary:\", student)\n",
        "\n",
        "\n",
        "student_length = len(student)\n",
        "print(\"Length of student dictionary:\", student_length)\n",
        "\n",
        "\n",
        "skills = student['skills']\n",
        "print(\"Skills:\", skills)\n",
        "print(\"Data type of skills:\", type(skills))\n",
        "\n",
        "\n",
        "student['skills'].extend(['C++', 'SQL'])\n",
        "print(\"Updated skills:\", student['skills'])\n",
        "\n",
        "\n",
        "student_keys = list(student.keys())\n",
        "print(\"Student dictionary keys:\", student_keys)\n",
        "\n",
        "\n",
        "student_values = list(student.values())\n",
        "print(\"Student dictionary values:\", student_values)\n"
      ],
      "metadata": {
        "colab": {
          "base_uri": "https://localhost:8080/"
        },
        "id": "F_WQbn_tyZzx",
        "outputId": "03be24b6-8f5b-4ad2-a875-129ac83c4796"
      },
      "execution_count": null,
      "outputs": [
        {
          "output_type": "stream",
          "name": "stdout",
          "text": [
            "Dog dictionary: {'name': 'Buddy', 'color': 'Brown', 'breed': 'Labrador', 'legs': 4, 'age': 5}\n",
            "Student dictionary: {'first_name': 'John', 'last_name': 'Doe', 'gender': 'Male', 'age': 22, 'marital_status': 'Single', 'skills': ['Python', 'Java'], 'country': 'USA', 'city': 'New York', 'address': '123 Main St'}\n",
            "Length of student dictionary: 9\n",
            "Skills: ['Python', 'Java']\n",
            "Data type of skills: <class 'list'>\n",
            "Updated skills: ['Python', 'Java', 'C++', 'SQL']\n",
            "Student dictionary keys: ['first_name', 'last_name', 'gender', 'age', 'marital_status', 'skills', 'country', 'city', 'address']\n",
            "Student dictionary values: ['John', 'Doe', 'Male', 22, 'Single', ['Python', 'Java', 'C++', 'SQL'], 'USA', 'New York', '123 Main St']\n"
          ]
        }
      ]
    },
    {
      "cell_type": "markdown",
      "source": [
        "Create a tuple containing names of your sisters and your brothers (imaginary siblings are\n",
        "fine)\n",
        "• Join brothers and sisters tuples and assign it to siblings\n",
        "• How many siblings do you have?\n",
        "• Modify the siblings tuple and add the name of your father and mother and assign it to\n",
        "family_members"
      ],
      "metadata": {
        "id": "6mj03TnFzHtT"
      }
    },
    {
      "cell_type": "code",
      "source": [
        "\n",
        "sisters = (\"Anna\", \"Bella\")\n",
        "brothers = (\"John\", \"Mike\")\n",
        "\n",
        "\n",
        "siblings = sisters + brothers\n",
        "print(\"Siblings:\", siblings)\n",
        "\n",
        "\n",
        "num_siblings = len(siblings)\n",
        "print(\"Number of siblings:\", num_siblings)\n",
        "\n",
        "\n",
        "father = \"James\"\n",
        "mother = \"Mary\"\n",
        "family_members = siblings + (father, mother)\n",
        "print(\"Family members:\", family_members)\n"
      ],
      "metadata": {
        "colab": {
          "base_uri": "https://localhost:8080/"
        },
        "id": "TAaF3DlkzWss",
        "outputId": "31dc3fb2-d35b-4dbf-9f43-da528fe483bd"
      },
      "execution_count": null,
      "outputs": [
        {
          "output_type": "stream",
          "name": "stdout",
          "text": [
            "Siblings: ('Anna', 'Bella', 'John', 'Mike')\n",
            "Number of siblings: 4\n",
            "Family members: ('Anna', 'Bella', 'John', 'Mike', 'James', 'Mary')\n"
          ]
        }
      ]
    },
    {
      "cell_type": "markdown",
      "source": [
        "it_companies = {'Facebook', 'Google', 'Microsoft', 'Apple', 'IBM', 'Oracle', 'Amazon'}\n",
        "A = {19, 22, 24, 20, 25, 26}\n",
        "B = {19, 22, 20, 25, 26, 24, 28, 27}\n",
        "age = [22, 19, 24, 25, 26, 24, 25, 24]\n",
        "• Find the length of the set it_companies\n",
        "• Add 'Twitter' to it_companies\n",
        "• Insert multiple IT companies at once to the set it_companies\n",
        "• Remove one of the companies from the set it_companies\n",
        "• What is the difference between remove and discard\n",
        "• Join A and B\n",
        "• Find A intersection B\n",
        "• Is A subset of B\n",
        "• Are A and B disjoint sets\n",
        "• Join A with B and B with A\n",
        "• What is the symmetric difference between A and B\n",
        "• Delete the sets completely\n",
        "• Convert the ages to a set and compare the length of the list and the set."
      ],
      "metadata": {
        "id": "Kpxy2igRztsx"
      }
    },
    {
      "cell_type": "code",
      "source": [
        "\n",
        "it_companies = {'Facebook', 'Google', 'Microsoft', 'Apple', 'IBM', 'Oracle', 'Amazon'}\n",
        "A = {19, 22, 24, 20, 25, 26}\n",
        "B = {19, 22, 20, 25, 26, 24, 28, 27}\n",
        "age = [22, 19, 24, 25, 26, 24, 25, 24]\n",
        "\n",
        "\n",
        "it_companies_length = len(it_companies)\n",
        "print(\"Length of it_companies:\", it_companies_length)\n",
        "\n",
        "\n",
        "it_companies.add('Twitter')\n",
        "print(\"it_companies after adding 'Twitter':\", it_companies)\n",
        "\n",
        "\n",
        "it_companies.update({'Tesla', 'Netflix', 'Adobe'})\n",
        "print(\"it_companies after adding multiple companies:\", it_companies)\n",
        "\n",
        "\n",
        "it_companies.remove('Oracle')\n",
        "print(\"it_companies after removing 'Oracle':\", it_companies)\n",
        "\n",
        "\n",
        "A_union_B = A.union(B)\n",
        "print(\"A union B:\", A_union_B)\n",
        "\n",
        "A_intersection_B = A.intersection(B)\n",
        "print(\"A intersection B:\", A_intersection_B)\n",
        "\n",
        "\n",
        "is_A_subset_B = A.issubset(B)\n",
        "print(\"Is A subset of B:\", is_A_subset_B)\n",
        "\n",
        "\n",
        "are_A_B_disjoint = A.isdisjoint(B)\n",
        "print(\"Are A and B disjoint:\", are_A_B_disjoint)\n",
        "\n",
        "\n",
        "A_join_B = A.union(B)\n",
        "B_join_A = B.union(A)\n",
        "print(\"A joined with B:\", A_join_B)\n",
        "print(\"B joined with A:\", B_join_A)\n",
        "\n",
        "\n",
        "A_symmetric_difference_B = A.symmetric_difference(B)\n",
        "print(\"Symmetric difference between A and B:\", A_symmetric_difference_B)\n",
        "\n",
        "\n",
        "del A\n",
        "del B\n",
        "print(\"A and B sets deleted.\")\n",
        "\n",
        "\n",
        "age_set = set(age)\n",
        "print(\"Length of age list:\", len(age))\n",
        "print(\"Length of age set:\", len(age_set))\n"
      ],
      "metadata": {
        "colab": {
          "base_uri": "https://localhost:8080/"
        },
        "id": "HpBF4zKXzvSD",
        "outputId": "e50ac447-1bc3-4767-b146-75b32a06eb28"
      },
      "execution_count": null,
      "outputs": [
        {
          "output_type": "stream",
          "name": "stdout",
          "text": [
            "Length of it_companies: 7\n",
            "it_companies after adding 'Twitter': {'Amazon', 'Microsoft', 'Facebook', 'Google', 'Apple', 'IBM', 'Twitter', 'Oracle'}\n",
            "it_companies after adding multiple companies: {'Amazon', 'Facebook', 'Google', 'Adobe', 'Oracle', 'Microsoft', 'Tesla', 'Netflix', 'Apple', 'IBM', 'Twitter'}\n",
            "it_companies after removing 'Oracle': {'Amazon', 'Facebook', 'Google', 'Adobe', 'Microsoft', 'Tesla', 'Netflix', 'Apple', 'IBM', 'Twitter'}\n",
            "A union B: {19, 20, 22, 24, 25, 26, 27, 28}\n",
            "A intersection B: {19, 20, 22, 24, 25, 26}\n",
            "Is A subset of B: True\n",
            "Are A and B disjoint: False\n",
            "A joined with B: {19, 20, 22, 24, 25, 26, 27, 28}\n",
            "B joined with A: {19, 20, 22, 24, 25, 26, 27, 28}\n",
            "Symmetric difference between A and B: {27, 28}\n",
            "A and B sets deleted.\n",
            "Length of age list: 8\n",
            "Length of age set: 5\n"
          ]
        }
      ]
    },
    {
      "cell_type": "markdown",
      "source": [
        "The radius of a circle is 30 meters.\n",
        "• Calculate the area of a circle and assign the value to a variable name of _area_of_circle_\n",
        "• Calculate the circumference of a circle and assign the value to a variable name of\n",
        "_circum_of_circle_\n",
        "• Take radius as user input and calculate the area"
      ],
      "metadata": {
        "id": "sT8As8jj0Q_Y"
      }
    },
    {
      "cell_type": "code",
      "source": [
        "import math\n",
        "\n",
        "radius = 30\n",
        "\n",
        "\n",
        "_area_of_circle_ = math.pi * radius ** 2\n",
        "print(\"Area of the circle:\", _area_of_circle_)\n",
        "\n",
        "\n",
        "_circum_of_circle_ = 2 * math.pi * radius\n",
        "print(\"Circumference of the circle:\", _circum_of_circle_)\n",
        "\n",
        "\n",
        "user_radius = float(input(\"Enter the radius of the circle: \"))\n",
        "user_area_of_circle = math.pi * user_radius ** 2\n",
        "print(\"Area of the circle with radius\", user_radius, \":\", user_area_of_circle)\n"
      ],
      "metadata": {
        "colab": {
          "base_uri": "https://localhost:8080/"
        },
        "id": "ymYK725f0SM-",
        "outputId": "d56c1947-8538-44e8-f22c-2425ce56f82c"
      },
      "execution_count": null,
      "outputs": [
        {
          "output_type": "stream",
          "name": "stdout",
          "text": [
            "Area of the circle: 2827.4333882308138\n",
            "Circumference of the circle: 188.49555921538757\n",
            "Enter the radius of the circle: 5\n",
            "Area of the circle with radius 5.0 : 78.53981633974483\n"
          ]
        }
      ]
    },
    {
      "cell_type": "markdown",
      "source": [
        "“I am a teacher and I love to inspire and teach people”\n",
        "• How many unique words have been used in the sentence? Use the split methods and set\n",
        "to get the unique words."
      ],
      "metadata": {
        "id": "iGT12uXw1A5i"
      }
    },
    {
      "cell_type": "code",
      "source": [
        "\n",
        "sentence = \"I am a teacher and I love to inspire and teach people\"\n",
        "\n",
        "\n",
        "words = sentence.split()\n",
        "\n",
        "\n",
        "unique_words = set(words)\n",
        "\n",
        "\n",
        "num_unique_words = len(unique_words)\n",
        "\n",
        "print(\"Number of unique words:\", num_unique_words)\n"
      ],
      "metadata": {
        "colab": {
          "base_uri": "https://localhost:8080/"
        },
        "id": "bSS8c8tv1CDv",
        "outputId": "b701e82f-e3ab-4484-b71e-5b55ca48d18f"
      },
      "execution_count": null,
      "outputs": [
        {
          "output_type": "stream",
          "name": "stdout",
          "text": [
            "Number of unique words: 10\n"
          ]
        }
      ]
    },
    {
      "cell_type": "markdown",
      "source": [
        "Use a tab escape sequence to get the following lines.\n",
        "Name Age Country City\n",
        "Asabeneh 250 Finland Helsinki\n"
      ],
      "metadata": {
        "id": "5AUsFWcD1OgG"
      }
    },
    {
      "cell_type": "code",
      "source": [
        "print(\"Name\\tAge\\tCountry\\tCity\\nAsabeneh\\t250\\tFinland\\tHelsinki\")\n"
      ],
      "metadata": {
        "colab": {
          "base_uri": "https://localhost:8080/"
        },
        "id": "KvIph9bu1pzd",
        "outputId": "77e21b1c-19c2-4a50-da28-d75161c35e4b"
      },
      "execution_count": null,
      "outputs": [
        {
          "output_type": "stream",
          "name": "stdout",
          "text": [
            "Name\tAge\tCountry\tCity\n",
            "Asabeneh\t250\tFinland\tHelsinki\n"
          ]
        }
      ]
    },
    {
      "cell_type": "markdown",
      "source": [
        "Use the string formatting method to display the following:\n",
        "radius = 10\n",
        "area = 3.14 * radius ** 2\n",
        "“The area of a circle with radius 10 is 314 meters square.”"
      ],
      "metadata": {
        "id": "ZXArcxnC1trI"
      }
    },
    {
      "cell_type": "code",
      "source": [
        "radius = 10\n",
        "area = 3.14 * radius ** 2\n",
        "\n",
        "print(\"The area of a circle with radius {} is {} meters square.\".format(radius, area))\n"
      ],
      "metadata": {
        "colab": {
          "base_uri": "https://localhost:8080/"
        },
        "id": "Z3vAl1HS10Nm",
        "outputId": "7c7e4891-3b8e-46fd-e450-cd538e9d4a7f"
      },
      "execution_count": null,
      "outputs": [
        {
          "output_type": "stream",
          "name": "stdout",
          "text": [
            "The area of a circle with radius 10 is 314.0 meters square.\n"
          ]
        }
      ]
    },
    {
      "cell_type": "markdown",
      "source": [
        "Write a program, which reads weights (lbs.) of N students into a list and convert these weights to\n",
        "kilograms in a separate list using Loop. N: No of students (Read input from user)\n",
        "Ex: L1: [150, 155, 145, 148]\n",
        "Output: [68.03, 70.3, 65.77, 67.13]"
      ],
      "metadata": {
        "id": "gCJPsu1U182g"
      }
    },
    {
      "cell_type": "code",
      "source": [
        "\n",
        "N = int(input(\"Enter the number of students: \"))\n",
        "\n",
        "\n",
        "weights_lbs = []\n",
        "\n",
        "\n",
        "for i in range(N):\n",
        "    weight_lbs = float(input(f\"Enter the weight of student {i+1} in pounds: \"))\n",
        "    weights_lbs.append(weight_lbs)\n",
        "\n",
        "weights_kg = []\n",
        "for weight_lbs in weights_lbs:\n",
        "    weight_kg = weight_lbs * 0.45359237\n",
        "    weights_kg.append(round(weight_kg, 2))\n",
        "\n",
        "6\n",
        "print(\"Weights in kilograms:\", weights_kg)\n"
      ],
      "metadata": {
        "colab": {
          "base_uri": "https://localhost:8080/"
        },
        "id": "k520xZI0193n",
        "outputId": "cbb33cb2-deb6-49d3-ccd5-831ef7b479da"
      },
      "execution_count": null,
      "outputs": [
        {
          "output_type": "stream",
          "name": "stdout",
          "text": [
            "Enter the number of students: 6\n",
            "Enter the weight of student 1 in pounds: 10\n",
            "Enter the weight of student 2 in pounds: 50\n",
            "Enter the weight of student 3 in pounds: 60\n",
            "Enter the weight of student 4 in pounds: 25\n",
            "Enter the weight of student 5 in pounds: 75\n",
            "Enter the weight of student 6 in pounds: 34\n",
            "Weights in kilograms: [4.54, 22.68, 27.22, 11.34, 34.02, 15.42]\n"
          ]
        }
      ]
    }
  ]
}